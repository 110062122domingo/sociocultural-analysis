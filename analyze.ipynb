{
 "cells": [
  {
   "cell_type": "markdown",
   "metadata": {},
   "source": [
    "## 整理資料\n"
   ]
  },
  {
   "cell_type": "code",
   "execution_count": 9,
   "metadata": {},
   "outputs": [],
   "source": [
    "# Importing necessary libraries\n",
    "import numpy as np\n",
    "import pandas as pd\n",
    "import matplotlib.pyplot as plt\n",
    "import os\n",
    "\n",
    "df = pd.read_excel('data.xlsx')\n",
    "# 性別\n",
    "X = pd.DataFrame(df['1. 生理性別'])\n",
    "\n",
    "# 類組（一二三類）\n",
    "X['類組'] = '第一類組'\n",
    "X.loc[df['2. 學院'].str.contains('理|工|電|資|原子|半導體|科學'), '類組'] = '第二類組'\n",
    "X.loc[df['2. 學院'].str.contains('醫|生命科學|生物|藥物科學|護理'), '類組'] = '第三類組'\n",
    "\n",
    "# 年級（一二、三、四以上）大三是人生重要轉淚點 \n",
    "X['年紀'] = '大三以下'\n",
    "X.loc[df['3. 年級'].str.contains('大三'), '年紀'] = '大三'\n",
    "X.loc[df['3. 年級'].str.contains('大四－大六|碩士|博士'), '年紀'] = '大三以上'\n",
    "\n",
    "# 台灣風氣看法（不一定要生、生1 2 3）\n",
    "X['生育個數風氣'] = '不生'\n",
    "X.loc[df['4. 請問你認為關於生育，台灣目前的風氣為何？'].str.contains('生1個|生2個|生3個'), '生育個數風氣'] = '生'\n",
    "\n",
    "# 家務分工（自己、平均、伴侶）\n",
    "question = '5. 依你過往的觀察，你認為台灣家庭中誰負擔較多養育小孩及打理家務的責任？'\n",
    "X['家務分工'] = '家務平均負擔'\n",
    "X.loc[df[question].str.contains('父親'), '家務分工'] = '父親負擔較多家務'\n",
    "X.loc[df[question].str.contains('母親'), '家務分工'] = '母親負擔較多家務'\n",
    "\n",
    "# 對台灣少子化政策暸解（0、12、345)\n",
    "question = '10. 請問你認為你多了解台灣目前對應少子化的政策？（生育津貼、托育補助等）'\n",
    "X['政策了解'] = '不了解台灣政策'\n",
    "X.loc[df[question].astype(str).str.contains('1' or '2'), '政策了解'] = '了解台灣政策'\n",
    "X.loc[df[question].astype(str).str.contains('3' or '4' or '5'), '政策了解'] = '非常了解台灣政策'\n",
    "\n",
    "\n",
    "# 少子化政策是否足夠（0、12、345）\n",
    "question = '11. 請問你認為台灣政府目前對應少子化的政策是否足夠？'\n",
    "X['政策足夠'] = '少子化的政策不足'\n",
    "X.loc[df[question].astype(str).str.contains('1' or '2'), '政策足夠'] = '少子化的政策尚可'\n",
    "X.loc[df[question].astype(str).str.contains('3' or '4' or '5'), '政策足夠'] = '少子化的政策足夠'\n",
    "\n",
    "# Adding a column '生' to indicate the intention to have children\n",
    "X['生'] = df['7. 請問你打算生小孩嗎？']\n"
   ]
  },
  {
   "cell_type": "code",
   "execution_count": 10,
   "metadata": {},
   "outputs": [],
   "source": [
    "# Create the 'piechart' directory if it doesn't exist\n",
    "save_folder = 'piechart/個別vs生小孩意願'\n",
    "if not os.path.exists(save_folder):\n",
    "    os.makedirs(save_folder)\n",
    "\n",
    "# Plot pie chart for each column in X against y\n",
    "for column in X:\n",
    "    if(column == '生'):\n",
    "        break\n",
    "    column_count = X[column].value_counts()\n",
    "\n",
    "    # Group by gender and school, and count the number of each response for y\n",
    "    grouped = X.groupby(X[column])['生'].value_counts().unstack().fillna(0)\n",
    "\n",
    "    # Calculate the total number of responses for each gender and school\n",
    "    total_responses = grouped.sum(axis=1)\n",
    "\n",
    "    # Calculate the percentage of each response for each gender and school\n",
    "    percentage = grouped.div(total_responses, axis=0) * 100\n",
    "\n",
    "    # Plot the pie charts for each gender and school combination\n",
    "    for index, row in percentage.iterrows():\n",
    "        plt.rcParams['font.sans-serif'] = ['STHeiti', 'SimHei', 'Microsoft YaHei', 'Noto Sans CJK SC', 'Arial']\n",
    "        plt.figure(figsize=(6, 6))\n",
    "        \n",
    "        # Create labels with both percentages and counts\n",
    "        labels = [f'{response} ({int(count)})\\n{percentage:.1f}%' for response, count, percentage in zip(row.index, grouped.loc[index], row)]\n",
    "        \n",
    "        plt.pie(row, labels=labels, autopct='', startangle=140)  # autopct='' to prevent duplicate percentages\n",
    "        plt.title(f'{index} 生小孩的比例')\n",
    "        plt.axis('equal')  # Equal aspect ratio ensures that pie is drawn as a circle.\n",
    "        \n",
    "        # Save the pie chart\n",
    "        plt.savefig(os.path.join(save_folder, f\"{index}_生小孩的比例.png\"))\n",
    "        plt.close()  # Close the figure to avoid memory leak\n"
   ]
  },
  {
   "cell_type": "markdown",
   "metadata": {},
   "source": [
    "## 生理性別與其他屬性合併"
   ]
  },
  {
   "cell_type": "code",
   "execution_count": 11,
   "metadata": {},
   "outputs": [],
   "source": [
    "save_folder = 'piechart/(性別+其他屬性)vs生小孩意願'\n",
    "if not os.path.exists(save_folder):\n",
    "    os.makedirs(save_folder)\n",
    "    # Plot pie chart for each column in X against y\n",
    "for column in X:\n",
    "    if(column == '生' or column == '1. 生理性別'):\n",
    "        continue\n",
    "    # Group by gender and school, and count the number of each response for y\n",
    "    grouped = X.groupby(['1. 生理性別', column])['生'].value_counts().unstack().fillna(0)\n",
    "\n",
    "    # Calculate the total number of responses for each gender and school\n",
    "    total_responses = grouped.sum(axis=1)\n",
    "\n",
    "    # Calculate the percentage of each response for each gender and school\n",
    "    percentage = grouped.div(total_responses, axis=0) * 100\n",
    "\n",
    "    # Plot the pie charts for each gender and school combination\n",
    "    for index, row in percentage.iterrows():\n",
    "        plt.rcParams['font.sans-serif'] = ['STHeiti', 'SimHei', 'Microsoft YaHei', 'Noto Sans CJK SC', 'Arial']\n",
    "        plt.figure(figsize=(6, 6))\n",
    "        labels = [f'{response} ({int(count)})' for response, count in zip(row.index, grouped.loc[index])]\n",
    "        plt.pie(row, labels=labels, autopct='%1.1f%%', startangle=140)\n",
    "        plt.title(f\"生理性別: {index[0]}, {column}: {index[1]}\")\n",
    "        plt.axis('equal') \n",
    "        plt.savefig(os.path.join(save_folder, f\"{index[0]}_{column}_{index[1]}.png\"))\n",
    "        plt.close()  # Close the figure to avoid memory leak"
   ]
  }
 ],
 "metadata": {
  "kernelspec": {
   "display_name": "Python 3",
   "language": "python",
   "name": "python3"
  },
  "language_info": {
   "codemirror_mode": {
    "name": "ipython",
    "version": 3
   },
   "file_extension": ".py",
   "mimetype": "text/x-python",
   "name": "python",
   "nbconvert_exporter": "python",
   "pygments_lexer": "ipython3",
   "version": "3.11.7"
  }
 },
 "nbformat": 4,
 "nbformat_minor": 2
}
